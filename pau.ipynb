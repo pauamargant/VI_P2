{
 "cells": [
  {
   "cell_type": "code",
   "execution_count": null,
   "metadata": {},
   "outputs": [],
   "source": [
    "%load_ext autoreload \n",
    "%autoreload 2\n",
    "%reload_ext autoreload\n",
    "\n",
    "\n",
    "from graphs import *\n",
    "import altair as alt\n",
    "data = get_accident_data(fname=\"dataset_v1.csv\",sample=False)\n",
    "accident_data = get_weather_data(data,fname = \"weather.csv\")\n",
    "\n",
    "data.head()"
   ]
  },
  {
   "cell_type": "code",
   "execution_count": null,
   "metadata": {},
   "outputs": [],
   "source": [
    "colors = {\"bg\": \"#eff0f3\", \"col1\": \"#d8b365\", \"col2\": \"#5ab4ac\"}\n",
    "w = 600\n",
    "h = 400\n",
    "ratio = 0.2\n",
    "# accident_data = get_weather_data(data,fname = \"weather.csv\")\n",
    "print(accident_data.columns)\n",
    "selection_cond = alt.selection_point(on=\"click\",  fields=[\"conditions\"])\n",
    "selection_acc_map = alt.selection_interval()\n",
    "selection_buro = alt.selection_point(fields=[\"name\"])\n",
    "selection_vehicle = alt.selection_multi(on=\"click\", fields=[\"VEHICLE TYPE CODE 1\"])\n",
    "time_brush = alt.selection_point(fields=[\"HOUR\"])\n",
    "#day_brush = alt.selection_interval(encodings=['x'])\n",
    "\n",
    "# weekday_dropdown = alt.binding_select(options=[[0,1,2,3,4],[5,6]],name='weekday',labels=['weekday','weekend'])\n",
    "selection_weekday = alt.selection_point(fields=['weekday'])\n",
    "\n",
    "# make month dropdownget\n",
    "month_dropdown = alt.binding_select(options=[[6,7,8,9],6,7,8,9],name='month', labels=['All','June','July','August','September'])\n",
    "selection_month = alt.selection_point(fields=['month'])\n",
    "selection_acc_factor = alt.selection_point(fields=['CONTRIBUTING FACTOR VEHICLE 1'])\n",
    "# selection_day = alt.selection_point(fields=['weekday','month-week'], empty=True)\n",
    "# selection_day_aux = alt.selection_point(fields=['weekday','month','week'],empty=False)\n",
    "\n",
    "cols = ['CRASH DATE','LATITUDE','LONGITUDE','date','HOUR','week','weekday','month','name','conditions','VEHICLE TYPE CODE 1','CONTRIBUTING FACTOR VEHICLE 1','dayname']\n",
    "\n",
    "# select only cols\n",
    "accident_data = accident_data[cols]\n",
    "print(accident_data.columns)"
   ]
  },
  {
   "cell_type": "code",
   "execution_count": null,
   "metadata": {},
   "outputs": [],
   "source": [
    "data_geojson_remote"
   ]
  },
  {
   "cell_type": "code",
   "execution_count": null,
   "metadata": {},
   "outputs": [],
   "source": []
  },
  {
   "cell_type": "markdown",
   "metadata": {},
   "source": []
  },
  {
   "cell_type": "code",
   "execution_count": null,
   "metadata": {},
   "outputs": [],
   "source": [
    "w=1000\n",
    "geo_view=get_map_chart(accident_data, selection_cond, selection_buro, selection_acc_map,selection_month, selection_weekday, selection_vehicle, time_brush,selection_acc_factor,  h=399+4, w=w*.7,ratio=.7)\n",
    "weather = get_weather_chart(accident_data,selection_buro,selection_acc_map,selection_cond,selection_month,selection_weekday, selection_vehicle, time_brush,selection_acc_factor,  h=399,w=w*0.8,ratio=0.8)\n",
    "calendar = get_calendar_chart(accident_data,selection_buro,selection_acc_map,selection_cond,selection_month,selection_weekday, selection_vehicle, time_brush,selection_acc_factor,  h=399,w=w*0.3)\n",
    "vehicles = get_vehicle_chart(accident_data, selection_buro,selection_acc_map,selection_cond, selection_month, selection_weekday, selection_vehicle, time_brush,selection_acc_factor,h=399+4,w=w*.3)\n",
    "time_of_day = get_time_of_day_chart(accident_data, selection_buro,selection_acc_map,selection_cond, selection_month, selection_weekday, selection_vehicle, time_brush,selection_acc_factor,h=399)\n",
    "acc_factor = get_factor_chart(accident_data, selection_buro,selection_acc_map,selection_cond, selection_month, selection_weekday, selection_vehicle, time_brush,selection_acc_factor,h=399,w=w*0.3)\n",
    "# .configure_scale(\n",
    "#     bandPaddingInner=.1).add_params(date_selector,month_selection, weekday_selection)\n",
    "\n",
    "((geo_view| vehicles) & (weather | acc_factor).resolve_scale(color=\"independent\")  & (calendar| time_of_day).resolve_scale(color='independent')).configure_scale(bandPaddingInner=0)"
   ]
  },
  {
   "cell_type": "code",
   "execution_count": null,
   "metadata": {},
   "outputs": [],
   "source": [
    "accident_data.columns"
   ]
  },
  {
   "cell_type": "markdown",
   "metadata": {},
   "source": [
    "####################################"
   ]
  },
  {
   "cell_type": "code",
   "execution_count": null,
   "metadata": {},
   "outputs": [],
   "source": []
  }
 ],
 "metadata": {
  "kernelspec": {
   "display_name": "Python 3 (ipykernel)",
   "language": "python",
   "name": "python3"
  },
  "language_info": {
   "codemirror_mode": {
    "name": "ipython",
    "version": 3
   },
   "file_extension": ".py",
   "mimetype": "text/x-python",
   "name": "python",
   "nbconvert_exporter": "python",
   "pygments_lexer": "ipython3",
   "version": "3.11.5"
  }
 },
 "nbformat": 4,
 "nbformat_minor": 4
}
