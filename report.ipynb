{
 "cells": [
  {
   "cell_type": "markdown",
   "metadata": {},
   "source": [
    "# Information Visualization: Second Practical Work\n",
    "\n",
    "### Authors: \n",
    "- David Gallardo\n",
    "- Pau Amargant\n",
    "\n",
    "## Introduction\n",
    "The goal of this project is to further analyse the New York traffic accidents dataset, focusing on the use of interactive visualizations. "
   ]
  },
  {
   "cell_type": "code",
   "execution_count": null,
   "metadata": {},
   "outputs": [],
   "source": [
    "!pip install -r requirements.txt"
   ]
  },
  {
   "cell_type": "markdown",
   "metadata": {},
   "source": [
    "We import the necessary libraries and our custom-made functions, stored in the `graphs.py` file."
   ]
  },
  {
   "cell_type": "code",
   "execution_count": 1,
   "metadata": {},
   "outputs": [],
   "source": [
    "from graphs import *\n"
   ]
  },
  {
   "cell_type": "markdown",
   "metadata": {},
   "source": [
    "## Preprocessing\n",
    "To begin with, we describe how we have preprocessed the data. Most of the process is the same as in the first practical work.\n",
    "First of all, the data was preprocessed using OpenRefine, which is a tool that allows us to easily clean and transform the data. The main steps which were performed are the following:\n",
    "- Normalization of vehicle types names; in this case the focus was on the three vehicle types which have been the focus of our analysis: taxis, fire trucks and ambulances. The normalization consisted in grouping the different names that were used to refer to the same vehicle type.\n",
    "- Selecting the relevant columns for our analysis and setting the proper data types.\n",
    "- Selecting the accidents which took place in the time interval we are interested in (jun-sep 2018)\n",
    "\n",
    "\n",
    "The dataset was exported as a CSV file and further processed using Python. The main steps performed are the following:\n",
    "- Date varaibles were converted to datetime objects.\n",
    "- Auxiliary column were created to store the day of the week, the hour of the day, and the month of the accident.\n",
    "- The coordinates of the accidents were converted to geometry format and used to obtain the borough of the accident, as in the original dataset this column contained many missing values.\n",
    "\n"
   ]
  },
  {
   "cell_type": "code",
   "execution_count": 5,
   "metadata": {},
   "outputs": [
    {
     "name": "stderr",
     "output_type": "stream",
     "text": [
      "c:\\Users\\pamar\\Desktop\\Q5\\VI_P2\\graphs.py:57: UserWarning: Geometry is in a geographic CRS. Results from 'centroid' are likely incorrect. Use 'GeoSeries.to_crs()' to re-project geometries to a projected CRS before this operation.\n",
      "\n",
      "  ny_df[\"x\"] = buroughs.centroid.x\n",
      "c:\\Users\\pamar\\Desktop\\Q5\\VI_P2\\graphs.py:58: UserWarning: Geometry is in a geographic CRS. Results from 'centroid' are likely incorrect. Use 'GeoSeries.to_crs()' to re-project geometries to a projected CRS before this operation.\n",
      "\n",
      "  ny_df[\"y\"] = buroughs.centroid.y\n",
      "c:\\Users\\pamar\\anaconda3\\envs\\VI\\Lib\\site-packages\\IPython\\core\\interactiveshell.py:3526: FutureWarning: The `op` parameter is deprecated and will be removed in a future release. Please use the `predicate` parameter instead.\n",
      "  exec(code_obj, self.user_global_ns, self.user_ns)\n"
     ]
    },
    {
     "data": {
      "text/plain": [
       "array(['2018-08-01T00:00:00Z', '2018-07-29T00:00:00Z',\n",
       "       '2018-06-26T00:00:00Z', '2018-06-16T00:00:00Z',\n",
       "       '2018-06-30T00:00:00Z', '2018-06-20T00:00:00Z',\n",
       "       '2018-06-01T00:00:00Z', '2018-08-28T00:00:00Z',\n",
       "       '2018-08-29T00:00:00Z', '2018-08-31T00:00:00Z',\n",
       "       '2018-08-30T00:00:00Z', '2018-08-23T00:00:00Z',\n",
       "       '2018-08-20T00:00:00Z', '2018-08-02T00:00:00Z',\n",
       "       '2018-08-16T00:00:00Z', '2018-08-17T00:00:00Z',\n",
       "       '2018-08-13T00:00:00Z', '2018-08-27T00:00:00Z',\n",
       "       '2018-08-18T00:00:00Z', '2018-08-15T00:00:00Z',\n",
       "       '2018-08-22T00:00:00Z', '2018-08-07T00:00:00Z',\n",
       "       '2018-08-10T00:00:00Z', '2018-08-14T00:00:00Z',\n",
       "       '2018-08-21T00:00:00Z', '2018-08-11T00:00:00Z',\n",
       "       '2018-08-08T00:00:00Z', '2018-08-24T00:00:00Z',\n",
       "       '2018-08-05T00:00:00Z', '2018-08-06T00:00:00Z',\n",
       "       '2018-08-19T00:00:00Z', '2018-08-26T00:00:00Z',\n",
       "       '2018-08-25T00:00:00Z', '2018-08-12T00:00:00Z',\n",
       "       '2018-08-03T00:00:00Z', '2018-08-04T00:00:00Z',\n",
       "       '2018-08-09T00:00:00Z', '2018-07-31T00:00:00Z',\n",
       "       '2018-07-11T00:00:00Z', '2018-07-16T00:00:00Z',\n",
       "       '2018-07-26T00:00:00Z', '2018-07-22T00:00:00Z',\n",
       "       '2018-07-09T00:00:00Z', '2018-07-18T00:00:00Z',\n",
       "       '2018-07-25T00:00:00Z', '2018-07-12T00:00:00Z',\n",
       "       '2018-07-15T00:00:00Z', '2018-07-28T00:00:00Z',\n",
       "       '2018-07-27T00:00:00Z', '2018-07-21T00:00:00Z',\n",
       "       '2018-07-17T00:00:00Z', '2018-07-08T00:00:00Z',\n",
       "       '2018-07-20T00:00:00Z', '2018-07-14T00:00:00Z',\n",
       "       '2018-07-06T00:00:00Z', '2018-07-07T00:00:00Z',\n",
       "       '2018-07-24T00:00:00Z', '2018-07-10T00:00:00Z',\n",
       "       '2018-07-19T00:00:00Z', '2018-07-30T00:00:00Z',\n",
       "       '2018-07-05T00:00:00Z', '2018-07-13T00:00:00Z',\n",
       "       '2018-06-27T00:00:00Z', '2018-06-18T00:00:00Z',\n",
       "       '2018-07-02T00:00:00Z', '2018-07-04T00:00:00Z',\n",
       "       '2018-06-17T00:00:00Z', '2018-07-01T00:00:00Z',\n",
       "       '2018-06-22T00:00:00Z', '2018-06-25T00:00:00Z',\n",
       "       '2018-06-28T00:00:00Z', '2018-06-29T00:00:00Z',\n",
       "       '2018-06-12T00:00:00Z', '2018-06-15T00:00:00Z',\n",
       "       '2018-07-03T00:00:00Z', '2018-06-21T00:00:00Z',\n",
       "       '2018-06-14T00:00:00Z', '2018-06-19T00:00:00Z',\n",
       "       '2018-06-13T00:00:00Z', '2018-06-24T00:00:00Z',\n",
       "       '2018-06-10T00:00:00Z', '2018-06-11T00:00:00Z',\n",
       "       '2018-06-02T00:00:00Z', '2018-06-04T00:00:00Z',\n",
       "       '2018-06-03T00:00:00Z', '2018-06-07T00:00:00Z',\n",
       "       '2018-06-06T00:00:00Z', '2018-06-09T00:00:00Z',\n",
       "       '2018-06-05T00:00:00Z', '2018-06-08T00:00:00Z',\n",
       "       '2018-07-23T00:00:00Z', '2018-06-23T00:00:00Z'], dtype=object)"
      ]
     },
     "execution_count": 5,
     "metadata": {},
     "output_type": "execute_result"
    }
   ],
   "source": [
    "data=get_accident_data(fname='dataset_v1.csv')\n",
    "data[\"CRASH DATE\"].unique()"
   ]
  }
 ],
 "metadata": {
  "kernelspec": {
   "display_name": "VI",
   "language": "python",
   "name": "python3"
  },
  "language_info": {
   "codemirror_mode": {
    "name": "ipython",
    "version": 3
   },
   "file_extension": ".py",
   "mimetype": "text/x-python",
   "name": "python",
   "nbconvert_exporter": "python",
   "pygments_lexer": "ipython3",
   "version": "3.11.5"
  }
 },
 "nbformat": 4,
 "nbformat_minor": 2
}
